{
 "cells": [
  {
   "cell_type": "markdown",
   "metadata": {},
   "source": [
    "<p> <h1>Continuous AutoCorrelation:</h1>\n",
    "<h3>Step 1:</h3>Get the distance matrix of the pair for the whole trajectory (729x2084) in this case.\n",
    "<h3>Step 2:</h3>If the distance value is more than 0.5 make it 1 or else make 0.\n",
    "<h3>Step 3:</h3>Delete the column of distace whose first value is 0 (means initially it is detached.)\n",
    "<h3>Step 4:</h3><ol>\n",
    "    <li>Define an array of nframes/2. First, second and third loops are over time origin, dt and pair.</li>\n",
    "    <li>For every time origin calculate the denominator(s2) just once. If the time origin itself has valur 0, skip that specific pair.</li>\n",
    "    <li>If you encounter 0 for a pair, skip the pair from there and keep the pair information(k) in memory.</li>\n",
    "    <li>If any specific pair is present in the memory skip that pair. If not calculate the numerator(s1).</li>\n",
    "    <li>If for a specific time origin and dt, all pairs have been scaned, then calculate C(s1/s2) and keep it in an array.</li>\n",
    "    </ol>\n",
    "<h3>Step 5:</h3>In the same way calculate for all the time origin and dt.\n",
    "<h3>Step 6:</h3>Then average over all the time origin.\n",
    "<h2>Finally you have your Continuous AutoCorrelation function as a function of frame number !!<h/2>\n",
    "<p>"
   ]
  },
  {
   "cell_type": "code",
   "execution_count": 14,
   "metadata": {},
   "outputs": [],
   "source": [
    "import numpy as np"
   ]
  },
  {
   "cell_type": "code",
   "execution_count": 15,
   "metadata": {},
   "outputs": [],
   "source": [
    "data = np.genfromtxt('mindistall.xvg') # It's a file with 729 columns and 2084 rows"
   ]
  },
  {
   "cell_type": "code",
   "execution_count": 16,
   "metadata": {},
   "outputs": [],
   "source": [
    "data_1_0 = np.where(data[:, 1:] > 0.5, 0, 1)"
   ]
  },
  {
   "cell_type": "markdown",
   "metadata": {},
   "source": [
    "**<span class=\"pirk\">Hydrogen-Bond Autocorrelation</span>** <br> \n",
    "ref: <span class=\"birk\">doi/10.1063.1.4922445</span>, J. Chem. Phys. **142**, 224907 (2015)"
   ]
  },
  {
   "cell_type": "markdown",
   "metadata": {},
   "source": [
    "The time correlation function used to measure hydrogen bonds in given by <br>\n",
    "\\begin{equation*}\n",
    "\\mathbf{C}_x (t) = \\langle \\frac{\\sum h_{ij} (t_0) h_{ij} (t_0 + t)} {\\sum h_{ij} (t_0)^2} \\rangle\n",
    "\\end{equation*} <br>\n",
    "where hij is a binary measure of whether a pairing ij meets the geometric hydrogen bond criteria, hij=1, or not,hij=0. The summation is performed over all the possible pairings, ij (O-N). Angular brackets represent an average over many different starting times in the trajectory. The subscript x referes to the two different definations for measuring hij at future time, continuous or intermittent. <br>\n",
    "**Continuous:** <br>\n",
    "Once a particular hydrogen bond is broken, it is then always considered broken even if the bond subsequently reforms. This defination therefore measures the average timne a pair remains intact and yeilds hydrogen bond lifetime. <br>\n",
    "**Intermittent:** <br>\n",
    "It allows bonds which were considered broken to be reformed and counted again at a future point in time. It measures the time that a particular hydrogen bonded pair remains in the same vicinity, yeilding information on the structural relaxation time of the polymer."
   ]
  },
  {
   "cell_type": "code",
   "execution_count": 21,
   "metadata": {},
   "outputs": [],
   "source": [
    "h = data_1_0"
   ]
  },
  {
   "cell_type": "code",
   "execution_count": 22,
   "metadata": {},
   "outputs": [],
   "source": [
    "h_1 = h[:, h[0, :]==1]"
   ]
  },
  {
   "cell_type": "code",
   "execution_count": 23,
   "metadata": {},
   "outputs": [],
   "source": [
    "n_size=int(h_1[:, 0].size/2)"
   ]
  },
  {
   "cell_type": "code",
   "execution_count": null,
   "metadata": {
    "collapsed": true
   },
   "outputs": [
    {
     "name": "stdout",
     "output_type": "stream",
     "text": [
      "0\n",
      "1\n",
      "2\n",
      "3\n",
      "4\n",
      "5\n",
      "6\n",
      "7\n",
      "8\n",
      "9\n",
      "10\n",
      "11\n",
      "12\n",
      "13\n",
      "14\n",
      "15\n",
      "16\n",
      "17\n",
      "18\n",
      "19\n",
      "20\n",
      "21\n",
      "22\n",
      "23\n",
      "24\n",
      "25\n",
      "26\n",
      "27\n",
      "28\n",
      "29\n",
      "30\n",
      "31\n",
      "32\n",
      "33\n",
      "34\n",
      "35\n",
      "36\n",
      "37\n",
      "38\n",
      "39\n",
      "40\n",
      "41\n",
      "42\n",
      "43\n",
      "44\n",
      "45\n",
      "46\n",
      "47\n",
      "48\n",
      "49\n",
      "50\n",
      "51\n",
      "52\n",
      "53\n",
      "54\n"
     ]
    }
   ],
   "source": [
    "a = np.empty([n_size, n_size])\n",
    "#Cx = np.array([])\n",
    "for i in range(n_size):\n",
    "    s2 = 0.0\n",
    "    mem_c = np.array([])\n",
    "    for j in range(n_size):\n",
    "        s1 = 0.0\n",
    "        for k in range(h_1[0, :].size):\n",
    "            if h_1[i, k] == 0:\n",
    "                continue\n",
    "                            \n",
    "            if j == 0:\n",
    "                s2 = s2 + h_1[i, k]*h_1[i, k]\n",
    "                \n",
    "            if h_1[i+(j+1), k] == 0:\n",
    "                mem_c = np.append(mem_c, k)\n",
    "                continue\n",
    "                \n",
    "            if k not in mem_c:\n",
    "                s1 = s1 + h_1[i, k]*h_1[i+(j+1), k]\n",
    "        C = s1/s2\n",
    "        a[i, j] = C\n",
    "        \n",
    "    #b = np.mean(a)\n",
    "    #Cx = np.append(Cx, b)\n",
    "    print(i)"
   ]
  },
  {
   "cell_type": "code",
   "execution_count": 22,
   "metadata": {
    "collapsed": true
   },
   "outputs": [
    {
     "data": {
      "text/plain": [
       "array([[0.99276411, 0.98842258, 0.98552822, ..., 0.59913169, 0.59913169,\n",
       "        0.59913169],\n",
       "       [0.99562682, 0.99271137, 0.98979592, ..., 0.60349854, 0.60349854,\n",
       "        0.60349854],\n",
       "       [0.99708455, 0.99125364, 0.98833819, ..., 0.60349854, 0.60349854,\n",
       "        0.60349854],\n",
       "       ...,\n",
       "       [0.99387443, 0.98928025, 0.98162328, ..., 0.64471669, 0.64471669,\n",
       "        0.64471669],\n",
       "       [0.99389313, 0.98473282, 0.97862595, ..., 0.64274809, 0.64274809,\n",
       "        0.64274809],\n",
       "       [0.98931298, 0.98320611, 0.98015267, ..., 0.64274809, 0.64274809,\n",
       "        0.64274809]])"
      ]
     },
     "execution_count": 22,
     "metadata": {},
     "output_type": "execute_result"
    }
   ],
   "source": [
    "a"
   ]
  },
  {
   "cell_type": "code",
   "execution_count": 23,
   "metadata": {},
   "outputs": [
    {
     "data": {
      "text/plain": [
       "array([0.99300649, 0.9883782 , 0.98484002, ..., 0.63949104, 0.63933933,\n",
       "       0.63918751])"
      ]
     },
     "execution_count": 23,
     "metadata": {},
     "output_type": "execute_result"
    }
   ],
   "source": [
    "np.mean(a, axis=0)"
   ]
  },
  {
   "cell_type": "code",
   "execution_count": 24,
   "metadata": {},
   "outputs": [],
   "source": [
    "np.savetxt('ac_cc_mean.dat', np.mean(a, axis=0), fmt='%10.5f')"
   ]
  }
 ],
 "metadata": {
  "kernelspec": {
   "display_name": "Python 3",
   "language": "python",
   "name": "python3"
  },
  "language_info": {
   "codemirror_mode": {
    "name": "ipython",
    "version": 3
   },
   "file_extension": ".py",
   "mimetype": "text/x-python",
   "name": "python",
   "nbconvert_exporter": "python",
   "pygments_lexer": "ipython3",
   "version": "3.7.4"
  },
  "toc": {
   "base_numbering": 1,
   "nav_menu": {},
   "number_sections": true,
   "sideBar": true,
   "skip_h1_title": false,
   "title_cell": "Table of Contents",
   "title_sidebar": "Contents",
   "toc_cell": false,
   "toc_position": {},
   "toc_section_display": true,
   "toc_window_display": false
  }
 },
 "nbformat": 4,
 "nbformat_minor": 4
}
